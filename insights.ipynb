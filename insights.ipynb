{
 "cells": [
  {
   "cell_type": "code",
   "execution_count": 81,
   "metadata": {},
   "outputs": [],
   "source": [
    "dataset = pd.read_excel(\"EIR.xlsx\")\n",
    "df = pd.DataFrame(dataset)"
   ]
  },
  {
   "cell_type": "code",
   "execution_count": 82,
   "metadata": {},
   "outputs": [
    {
     "data": {
      "text/html": [
       "<div>\n",
       "<style scoped>\n",
       "    .dataframe tbody tr th:only-of-type {\n",
       "        vertical-align: middle;\n",
       "    }\n",
       "\n",
       "    .dataframe tbody tr th {\n",
       "        vertical-align: top;\n",
       "    }\n",
       "\n",
       "    .dataframe thead th {\n",
       "        text-align: right;\n",
       "    }\n",
       "</style>\n",
       "<table border=\"1\" class=\"dataframe\">\n",
       "  <thead>\n",
       "    <tr style=\"text-align: right;\">\n",
       "      <th></th>\n",
       "      <th>CREATED_DATE</th>\n",
       "      <th>CREATED_DATE minus Hour</th>\n",
       "      <th>USER_ID</th>\n",
       "      <th>TRANSACTION_ID</th>\n",
       "      <th>TYPE</th>\n",
       "      <th>CURRENCY</th>\n",
       "      <th>AMOUNT</th>\n",
       "    </tr>\n",
       "  </thead>\n",
       "  <tbody>\n",
       "    <tr>\n",
       "      <th>0</th>\n",
       "      <td>2016-01-09 00:18:14</td>\n",
       "      <td>2016-09-01 00:00:00</td>\n",
       "      <td>45e3c222-38ac-4fdb-b092-ff1639e4438c</td>\n",
       "      <td>27d7fd11-d885-4d2c-9ed1-daa89b7bda1d</td>\n",
       "      <td>TOPUP</td>\n",
       "      <td>EUR</td>\n",
       "      <td>177.38</td>\n",
       "    </tr>\n",
       "    <tr>\n",
       "      <th>1</th>\n",
       "      <td>2016-01-09 02:28:34</td>\n",
       "      <td>2016-09-01 00:00:00</td>\n",
       "      <td>57c11728-b979-4856-bada-1d268726cfe9</td>\n",
       "      <td>2e1ee26c-0d24-4931-a7f9-0caa0d07eb2e</td>\n",
       "      <td>BANK_TRANSFER</td>\n",
       "      <td>EUR</td>\n",
       "      <td>310.27</td>\n",
       "    </tr>\n",
       "    <tr>\n",
       "      <th>2</th>\n",
       "      <td>2016-01-09 04:00:34</td>\n",
       "      <td>2016-09-01 00:00:00</td>\n",
       "      <td>1319cca9-02a7-4a15-8abb-48d4e08e5aa3</td>\n",
       "      <td>bfd20e6f-ddb3-4237-bcd2-f7f8d967e36e</td>\n",
       "      <td>CARD_PAYMENT</td>\n",
       "      <td>EUR</td>\n",
       "      <td>96.44</td>\n",
       "    </tr>\n",
       "    <tr>\n",
       "      <th>3</th>\n",
       "      <td>2016-01-09 10:26:27</td>\n",
       "      <td>2016-09-01 00:00:00</td>\n",
       "      <td>3f6bb28c-f945-4027-9178-747956c3ea58</td>\n",
       "      <td>85037186-039a-4ae5-9fea-e87f30822218</td>\n",
       "      <td>BANK_TRANSFER</td>\n",
       "      <td>EUR</td>\n",
       "      <td>288.51</td>\n",
       "    </tr>\n",
       "    <tr>\n",
       "      <th>4</th>\n",
       "      <td>2016-01-09 11:37:59</td>\n",
       "      <td>2016-09-01 00:00:00</td>\n",
       "      <td>f54baeeb-7282-4d23-9bb7-e8396ce1b159</td>\n",
       "      <td>8e1e938a-1916-4d5e-b261-82c61a6979d6</td>\n",
       "      <td>CARD_PAYMENT</td>\n",
       "      <td>GBP</td>\n",
       "      <td>88.45</td>\n",
       "    </tr>\n",
       "  </tbody>\n",
       "</table>\n",
       "</div>"
      ],
      "text/plain": [
       "         CREATED_DATE CREATED_DATE minus Hour  \\\n",
       "0 2016-01-09 00:18:14     2016-09-01 00:00:00   \n",
       "1 2016-01-09 02:28:34     2016-09-01 00:00:00   \n",
       "2 2016-01-09 04:00:34     2016-09-01 00:00:00   \n",
       "3 2016-01-09 10:26:27     2016-09-01 00:00:00   \n",
       "4 2016-01-09 11:37:59     2016-09-01 00:00:00   \n",
       "\n",
       "                                USER_ID                        TRANSACTION_ID  \\\n",
       "0  45e3c222-38ac-4fdb-b092-ff1639e4438c  27d7fd11-d885-4d2c-9ed1-daa89b7bda1d   \n",
       "1  57c11728-b979-4856-bada-1d268726cfe9  2e1ee26c-0d24-4931-a7f9-0caa0d07eb2e   \n",
       "2  1319cca9-02a7-4a15-8abb-48d4e08e5aa3  bfd20e6f-ddb3-4237-bcd2-f7f8d967e36e   \n",
       "3  3f6bb28c-f945-4027-9178-747956c3ea58  85037186-039a-4ae5-9fea-e87f30822218   \n",
       "4  f54baeeb-7282-4d23-9bb7-e8396ce1b159  8e1e938a-1916-4d5e-b261-82c61a6979d6   \n",
       "\n",
       "            TYPE CURRENCY  AMOUNT  \n",
       "0          TOPUP      EUR  177.38  \n",
       "1  BANK_TRANSFER      EUR  310.27  \n",
       "2   CARD_PAYMENT      EUR   96.44  \n",
       "3  BANK_TRANSFER      EUR  288.51  \n",
       "4   CARD_PAYMENT      GBP   88.45  "
      ]
     },
     "execution_count": 82,
     "metadata": {},
     "output_type": "execute_result"
    }
   ],
   "source": [
    "df.head()"
   ]
  },
  {
   "cell_type": "code",
   "execution_count": 110,
   "metadata": {},
   "outputs": [
    {
     "data": {
      "text/plain": [
       "array(['TOPUP', 'BANK_TRANSFER', 'CARD_PAYMENT', 'ATM', 'P2P_TRANSFER'],\n",
       "      dtype=object)"
      ]
     },
     "execution_count": 110,
     "metadata": {},
     "output_type": "execute_result"
    }
   ],
   "source": [
    "df['TYPE'].unique()"
   ]
  },
  {
   "cell_type": "code",
   "execution_count": 111,
   "metadata": {},
   "outputs": [
    {
     "data": {
      "text/plain": [
       "array(['EUR', 'GBP'], dtype=object)"
      ]
     },
     "execution_count": 111,
     "metadata": {},
     "output_type": "execute_result"
    }
   ],
   "source": [
    "df['CURRENCY'].unique()"
   ]
  },
  {
   "cell_type": "code",
   "execution_count": 83,
   "metadata": {},
   "outputs": [
    {
     "data": {
      "text/plain": [
       "(10000, 7)"
      ]
     },
     "execution_count": 83,
     "metadata": {},
     "output_type": "execute_result"
    }
   ],
   "source": [
    "df.shape"
   ]
  },
  {
   "cell_type": "code",
   "execution_count": 85,
   "metadata": {},
   "outputs": [
    {
     "data": {
      "text/plain": [
       "CREATED_DATE               1\n",
       "CREATED_DATE minus Hour    1\n",
       "USER_ID                    1\n",
       "TRANSACTION_ID             1\n",
       "TYPE                       1\n",
       "CURRENCY                   1\n",
       "AMOUNT                     1\n",
       "dtype: int64"
      ]
     },
     "execution_count": 85,
     "metadata": {},
     "output_type": "execute_result"
    }
   ],
   "source": [
    "df.columns.value_counts()"
   ]
  },
  {
   "cell_type": "code",
   "execution_count": 98,
   "metadata": {},
   "outputs": [
    {
     "name": "stdout",
     "output_type": "stream",
     "text": [
      "06bb2d68-bf61-4030-8447-9de64d3ce490    132\n",
      "d35f19f3-d9ad-48bf-bd1e-90f3ba4f0b98    103\n",
      "d1bc3cd6-154e-479f-8957-a69cdf414462     95\n",
      "Name: USER_ID, dtype: int64\n"
     ]
    }
   ],
   "source": [
    "top_users = df['USER_ID'].value_counts().nlargest(3)\n",
    "print(top_users)"
   ]
  },
  {
   "cell_type": "code",
   "execution_count": 99,
   "metadata": {},
   "outputs": [
    {
     "name": "stdout",
     "output_type": "stream",
     "text": [
      "transaction_value_by_top_users 57087.91\n"
     ]
    }
   ],
   "source": [
    "transaction_value_by_top_users = df[df['USER_ID'].isin(top_users.index)]['AMOUNT'].sum()\n",
    "print(\"transaction_value_by_top_users\",transaction_value_by_top_users)"
   ]
  },
  {
   "cell_type": "code",
   "execution_count": 100,
   "metadata": {},
   "outputs": [
    {
     "name": "stdout",
     "output_type": "stream",
     "text": [
      "user_concentration 3.3000000000000003\n"
     ]
    }
   ],
   "source": [
    "user_concentration = top_users.sum() / total_transactions * 100\n",
    "print(\"user_concentration\",user_concentration)"
   ]
  },
  {
   "cell_type": "code",
   "execution_count": 103,
   "metadata": {},
   "outputs": [],
   "source": [
    "import matplotlib.pyplot as plt\n",
    "import seaborn as sns\n"
   ]
  },
  {
   "cell_type": "code",
   "execution_count": 106,
   "metadata": {},
   "outputs": [
    {
     "data": {
      "image/png": "[encoded data removed]",
      "text/plain": [
       "<Figure size 1000x600 with 1 Axes>"
      ]
     },
     "metadata": {},
     "output_type": "display_data"
    }
   ],
   "source": [
    "plt.figure(figsize=(10, 6))\n",
    "sns.barplot(x='CURRENCY', y='AMOUNT', data=df, estimator=sum)\n",
    "plt.title('Total Transaction Value by Currency')\n",
    "plt.ylabel('Total Amount')\n",
    "plt.xlabel('Currency')\n",
    "plt.show()\n",
    "\n"
   ]
  },
  {
   "cell_type": "code",
   "execution_count": 151,
   "metadata": {},
   "outputs": [
    {
     "data": {
      "text/plain": [
       "CURRENCY\n",
       "EUR    852363.35\n",
       "GBP    905319.18\n",
       "Name: AMOUNT, dtype: float64"
      ]
     },
     "execution_count": 151,
     "metadata": {},
     "output_type": "execute_result"
    }
   ],
   "source": [
    "currency_usage = df.groupby('CURRENCY')['AMOUNT'].sum()\n",
    "currency_usage"
   ]
  },
  {
   "cell_type": "code",
   "execution_count": 153,
   "metadata": {},
   "outputs": [
    {
     "data": {
      "text/plain": [
       "CURRENCY\n",
       "EUR    175.708792\n",
       "GBP    175.824273\n",
       "Name: AMOUNT, dtype: float64"
      ]
     },
     "execution_count": 153,
     "metadata": {},
     "output_type": "execute_result"
    }
   ],
   "source": [
    "average_transaction_amount = df.groupby('CURRENCY')['AMOUNT'].mean() # Average Transaction Amount by Currency\n",
    "average_transaction_amount"
   ]
  },
  {
   "cell_type": "code",
   "execution_count": 164,
   "metadata": {},
   "outputs": [
    {
     "name": "stdout",
     "output_type": "stream",
     "text": [
      "Fail to reject null hypothesis: There is no significant difference in average transaction amount between EUR and GBP.\n"
     ]
    }
   ],
   "source": [
    "from scipy.stats import ttest_ind\n",
    "\n",
    "data_eur = df[df['CURRENCY'] == 'EUR']['AMOUNT']\n",
    "data_gbp = df[df['CURRENCY'] == 'GBP']['AMOUNT']\n",
    "\n",
    "t_statistic, p_value = ttest_ind(data_eur, data_gbp)\n",
    "\n",
    "# Set the significance level\n",
    "alpha = 0.05\n",
    "\n",
    "if p_value < alpha:\n",
    "    print(\"Reject null hypothesis: There is a significant difference in average transaction amount between EUR and GBP.\")\n",
    "else:\n",
    "    print(\"Fail to reject null hypothesis: There is no significant difference in average transaction amount between EUR and GBP.\")"
   ]
  },
  {
   "cell_type": "code",
   "execution_count": 107,
   "metadata": {},
   "outputs": [
    {
     "data": {
      "image/png": "[encoded data removed]",
      "text/plain": [
       "<Figure size 1000x600 with 1 Axes>"
      ]
     },
     "metadata": {},
     "output_type": "display_data"
    }
   ],
   "source": [
    "plt.figure(figsize=(10, 6))\n",
    "sns.countplot(x='TYPE', data=df)\n",
    "plt.title('Transaction Types')\n",
    "plt.ylabel('Count')\n",
    "plt.xlabel('Transaction Type')\n",
    "plt.show()\n"
   ]
  },
  {
   "cell_type": "code",
   "execution_count": 143,
   "metadata": {},
   "outputs": [
    {
     "data": {
      "text/plain": [
       "TOPUP            2373\n",
       "BANK_TRANSFER    2371\n",
       "ATM              2357\n",
       "CARD_PAYMENT     2325\n",
       "P2P_TRANSFER      574\n",
       "Name: TYPE, dtype: int64"
      ]
     },
     "execution_count": 143,
     "metadata": {},
     "output_type": "execute_result"
    }
   ],
   "source": [
    "activity_distribution = df['TYPE'].value_counts()\n",
    "activity_distribution"
   ]
  },
  {
   "cell_type": "code",
   "execution_count": 139,
   "metadata": {},
   "outputs": [
    {
     "name": "stdout",
     "output_type": "stream",
     "text": [
      "Count of Duplicate User IDs: 8866\n"
     ]
    }
   ],
   "source": [
    "\n",
    "\n",
    "duplicate_user_id_count = df.duplicated(subset='USER_ID').sum()\n",
    "\n",
    "print(\"Count of Duplicate User IDs:\", duplicate_user_id_count)\n"
   ]
  },
  {
   "cell_type": "code",
   "execution_count": 134,
   "metadata": {},
   "outputs": [
    {
     "data": {
      "text/plain": [
       "06bb2d68-bf61-4030-8447-9de64d3ce490    132\n",
       "d35f19f3-d9ad-48bf-bd1e-90f3ba4f0b98    103\n",
       "d1bc3cd6-154e-479f-8957-a69cdf414462     95\n",
       "0fe472c9-cf3e-4e43-90f3-a0cfb6a4f1f0     85\n",
       "65ac0928-e17d-4636-96f4-ebe6bdb9c98d     84\n",
       "                                       ... \n",
       "a36c529f-7819-416f-8a5c-42ac6b787e3d      1\n",
       "462af64f-8cf4-48b2-bc3b-854eb9baa8d9      1\n",
       "524314c9-55bc-42e0-908e-76a76a117f27      1\n",
       "3ed84310-bebe-4395-a0b6-eebf8ca308da      1\n",
       "2d518cf9-d853-443d-a3d8-bda56f373901      1\n",
       "Name: USER_ID, Length: 1134, dtype: int64"
      ]
     },
     "execution_count": 134,
     "metadata": {},
     "output_type": "execute_result"
    }
   ],
   "source": [
    "user_id_counts = df['USER_ID'].value_counts()\n",
    "user_id_counts\n"
   ]
  },
  {
   "cell_type": "code",
   "execution_count": 149,
   "metadata": {},
   "outputs": [
    {
     "data": {
      "text/plain": [
       "Text(0, 0.5, 'Count')"
      ]
     },
     "execution_count": 149,
     "metadata": {},
     "output_type": "execute_result"
    },
    {
     "data": {
      "image/png": "[encoded data removed]",
      "text/plain": [
       "<Figure size 640x480 with 1 Axes>"
      ]
     },
     "metadata": {},
     "output_type": "display_data"
    }
   ],
   "source": [
    "df['CREATED_DATE'] = pd.to_datetime(df['CREATED_DATE'])\n",
    "transaction_time_distribution = df['CREATED_DATE'].dt.hour.value_counts().sort_index()\n",
    "transaction_time_distribution.plot(kind='bar', title='Transaction Time Distribution')\n",
    "plt.xlabel('Hour of the Day')\n",
    "plt.ylabel('Count')\n"
   ]
  },
  {
   "cell_type": "code",
   "execution_count": 174,
   "metadata": {},
   "outputs": [
    {
     "name": "stdout",
     "output_type": "stream",
     "text": [
      "Number of Long Time Gaps: 2528\n"
     ]
    }
   ],
   "source": [
    "# Convert 'CREATED_DATE' column to datetime\n",
    "df['CREATED_DATE'] = pd.to_datetime(df['CREATED_DATE'])\n",
    "\n",
    "# Calculate time differences between transactions\n",
    "df['TimeDifference'] = df['CREATED_DATE'].diff().dt.total_seconds()\n",
    "\n",
    "time_threshold = 3600  # Threshold in seconds for time gaps\n",
    "\n",
    "long_time_gaps = df[df['TimeDifference'] > time_threshold]\n",
    "\n",
    "print(\"Number of Long Time Gaps:\", len(long_time_gaps))\n",
    "\n",
    "num_long_time_gaps = len(long_time_gaps)\n",
    "\n",
    "\n"
   ]
  },
  {
   "cell_type": "code",
   "execution_count": 169,
   "metadata": {},
   "outputs": [
    {
     "name": "stdout",
     "output_type": "stream",
     "text": [
      "Number of Short Time Transactions: 429\n"
     ]
    }
   ],
   "source": [
    "short_time_threshold = 60  # Threshold in seconds for short time gaps\n",
    "short_time_transactions = df[df['TimeDifference'] < short_time_threshold]\n",
    "\n",
    "print(\"Number of Short Time Transactions:\", len(short_time_transactions))\n"
   ]
  },
  {
   "cell_type": "code",
   "execution_count": 175,
   "metadata": {},
   "outputs": [
    {
     "name": "stdout",
     "output_type": "stream",
     "text": [
      "Percentage of Long Time Gap Transactions: 25.28 %\n"
     ]
    }
   ],
   "source": [
    "# Calculate the total number of transactions\n",
    "total_transactions = len(df)\n",
    "\n",
    "# Calculate the percentage of long time gap transactions\n",
    "percentage_long_time_gaps = (num_long_time_gaps / total_transactions) * 100\n",
    "\n",
    "print(\"Percentage of Long Time Gap Transactions:\", round(percentage_long_time_gaps, 2), \"%\")\n"
   ]
  },
  {
   "cell_type": "code",
   "execution_count": 162,
   "metadata": {},
   "outputs": [
    {
     "name": "stdout",
     "output_type": "stream",
     "text": [
      "Percentage of users with low engagement: 54.76%\n",
      "Percentage of users with high engagement: 45.24%\n"
     ]
    }
   ],
   "source": [
    "total_users = len(user_transaction_counts)\n",
    "\n",
    "# Calculate the percentage of users with low engagement (i.e below median transaction count)\n",
    "median_transaction_count = user_transaction_counts.median()\n",
    "low_engagement_users = user_transaction_counts[user_transaction_counts <= median_transaction_count]\n",
    "low_engagement_percentage = (len(low_engagement_users) / total_users) * 100\n",
    "\n",
    "# Calculate the percentage of users with high engagement (i.e above median transaction count)\n",
    "high_engagement_users = user_transaction_counts[user_transaction_counts > median_transaction_count]\n",
    "high_engagement_percentage = (len(high_engagement_users) / total_users) * 100\n",
    "\n",
    "print(f\"Percentage of users with low engagement: {low_engagement_percentage:.2f}%\")\n",
    "print(f\"Percentage of users with high engagement: {high_engagement_percentage:.2f}%\")"
   ]
  },
  {
   "cell_type": "code",
   "execution_count": null,
   "metadata": {},
   "outputs": [],
   "source": []
  }
 ],
 "metadata": {
  "kernelspec": {
   "display_name": "base",
   "language": "python",
   "name": "python3"
  },
  "language_info": {
   "codemirror_mode": {
    "name": "ipython",
    "version": 3
   },
   "file_extension": ".py",
   "mimetype": "text/x-python",
   "name": "python",
   "nbconvert_exporter": "python",
   "pygments_lexer": "ipython3",
   "version": "3.10.9"
  },
  "orig_nbformat": 4
 },
 "nbformat": 4,
 "nbformat_minor": 2
}
